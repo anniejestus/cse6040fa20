{
 "cells": [
  {
   "cell_type": "markdown",
   "metadata": {},
   "source": [
    "# Example: Character with the longest consecutive subsequence of a string"
   ]
  },
  {
   "cell_type": "code",
   "execution_count": null,
   "metadata": {},
   "outputs": [],
   "source": [
    "def check(implementation):\n",
    "    tests = [\n",
    "        # [input, expected],\n",
    "        [\"aaaabb\", ('a', 4)],\n",
    "        [\"bbbaaabaaaa\", ('a', 4)],\n",
    "        [\"bbbaaaabaaa\", ('a', 4)],\n",
    "        [\"cbdeuuu900\", ('u', 3)],\n",
    "        [\"abbbbb\", ('b', 5)],\n",
    "        [\"aabb\", ('a', 2)],\n",
    "        [\"ba\", ('b', 1)],\n",
    "        [\"\", ('', 0)],\n",
    "    ]\n",
    "    for s, true_answer in tests:\n",
    "        print(f\"Input: {repr(s)} => Expected output: {true_answer}\")\n",
    "        our_answer = implementation(s)\n",
    "        assert our_answer == true_answer, f\"{our_answer} does not match expected result.\""
   ]
  },
  {
   "cell_type": "markdown",
   "metadata": {},
   "source": [
    "## Method 0: \"One-at-a-time\" approach\n",
    "\n",
    "Scan the string from left-to-right, one character at a time. Keep track of the longest consecutive substring encountered so far, and update that every time we encounter a new character."
   ]
  },
  {
   "cell_type": "code",
   "execution_count": null,
   "metadata": {},
   "outputs": [],
   "source": [
    "s = \"bbbaaaabaaa\""
   ]
  },
  {
   "cell_type": "markdown",
   "metadata": {},
   "source": [
    "**Aside: Refactoring.**"
   ]
  },
  {
   "cell_type": "code",
   "execution_count": null,
   "metadata": {},
   "outputs": [],
   "source": [
    "def update_lcs(p, pc, l, lc):\n",
    "    return (p, pc) if pc > lc else (l, lc)\n",
    "\n",
    "def lcs0(s):\n",
    "    previous, previous_count = '', 0  # logical relationship between previous and previous_count is \"invariant\"\n",
    "    longest, longest_count = '', 0\n",
    "    for c in s:  # O(n)\n",
    "        if c == previous: # same substring, keep going\n",
    "            previous_count += 1\n",
    "        else: # new substring\n",
    "            longest, longest_count = update_lcs(previous, previous_count, longest, longest_count)\n",
    "            previous, previous_count = c, 1\n",
    "    return update_lcs(previous, previous_count, longest, longest_count)\n",
    "\n",
    "lcs0(s)"
   ]
  },
  {
   "cell_type": "code",
   "execution_count": null,
   "metadata": {},
   "outputs": [],
   "source": [
    "check(lcs0)"
   ]
  },
  {
   "cell_type": "markdown",
   "metadata": {},
   "source": [
    "## Method 1: A \"data-parallel\" approach\n",
    "\n",
    "For all consecutive pairs of characters, detect where changes occur. These are, in effect, the locations of the last letter of a consecutive subsequence. From those locations, looking at the differences between them yields the length of each subsequence."
   ]
  },
  {
   "cell_type": "code",
   "execution_count": null,
   "metadata": {},
   "outputs": [],
   "source": [
    "s = \"bbbaaaabaaa\""
   ]
  },
  {
   "cell_type": "markdown",
   "metadata": {},
   "source": [
    "```python\n",
    "                    1\n",
    "0 1 2 3 4 5 6 7 8 9 0\n",
    "b b b a a a a b a a a\n",
    "b b a a a a b a a a\n",
    "```"
   ]
  },
  {
   "cell_type": "markdown",
   "metadata": {},
   "source": [
    "```python\n",
    "-1, 2, 6, 7, 10  # <-- look at difference between pairs\n",
    " 3, 4, 1, 3\n",
    "```"
   ]
  },
  {
   "cell_type": "code",
   "execution_count": null,
   "metadata": {},
   "outputs": [],
   "source": [
    "def neighbor_pairs(s):\n",
    "    return zip(s[:-1], s[1:])\n",
    "\n",
    "def find_changes(s):\n",
    "    return [k for k, (left, right) in enumerate(neighbor_pairs(s)) if left != right] + [len(s)-1]\n",
    "\n",
    "def diffs(x):\n",
    "    return [b-a for a, b in neighbor_pairs(x)]\n",
    "\n",
    "def lcs1(s):\n",
    "    cut_points = [-1] + find_changes(s)    # n = |s|, O(n)\n",
    "    lengths = diffs(cut_points)   # O(n)\n",
    "    letters = [s[k:k+1] for k in cut_points[1:]] # O(n)\n",
    "    letter_count_pairs = zip(letters, lengths) # O(n)\n",
    "    return max(letter_count_pairs, key=lambda t: t[1]) # O(n)\n",
    "\n",
    "s, lcs1(s)"
   ]
  },
  {
   "cell_type": "code",
   "execution_count": null,
   "metadata": {},
   "outputs": [],
   "source": [
    "check(lcs1)"
   ]
  },
  {
   "cell_type": "markdown",
   "metadata": {},
   "source": [
    "# Method 2a: String splitting by slicing"
   ]
  },
  {
   "cell_type": "code",
   "execution_count": null,
   "metadata": {},
   "outputs": [],
   "source": [
    "s = \"bbbaaaabaaa\""
   ]
  },
  {
   "cell_type": "code",
   "execution_count": null,
   "metadata": {},
   "outputs": [],
   "source": [
    "s[0:3], s[3:7], s[7:8], s[8:11]  # a:b => [a, b) vs. [a, b]"
   ]
  },
  {
   "cell_type": "code",
   "execution_count": null,
   "metadata": {},
   "outputs": [],
   "source": [
    "find_changes(s)"
   ]
  },
  {
   "cell_type": "code",
   "execution_count": null,
   "metadata": {},
   "outputs": [],
   "source": [
    "def inc(x):\n",
    "    return [e+1 for e in x]\n",
    "\n",
    "ends = inc(find_changes(s))\n",
    "ends"
   ]
  },
  {
   "cell_type": "code",
   "execution_count": null,
   "metadata": {},
   "outputs": [],
   "source": [
    "starts = [0] + ends[:-1]\n",
    "starts"
   ]
  },
  {
   "cell_type": "code",
   "execution_count": null,
   "metadata": {},
   "outputs": [],
   "source": [
    "[s[a:b] for a, b in zip(starts, ends)]"
   ]
  },
  {
   "cell_type": "markdown",
   "metadata": {},
   "source": [
    "# Method 2b: Transform + (literal) string-splitting"
   ]
  },
  {
   "cell_type": "code",
   "execution_count": null,
   "metadata": {},
   "outputs": [],
   "source": [
    "'the quick brown fox jumps over the lazy dog'.split('fox')"
   ]
  },
  {
   "cell_type": "code",
   "execution_count": null,
   "metadata": {},
   "outputs": [],
   "source": [
    "s = \"bbbaaaabaaa\""
   ]
  },
  {
   "cell_type": "code",
   "execution_count": null,
   "metadata": {},
   "outputs": [],
   "source": [
    "s_new = \"bbb|aaaa|b|aaa\".split('|')\n",
    "s_new"
   ]
  },
  {
   "cell_type": "code",
   "execution_count": null,
   "metadata": {},
   "outputs": [],
   "source": [
    "SEPARATOR = '|'\n",
    "assert SEPARATOR not in s"
   ]
  },
  {
   "cell_type": "code",
   "execution_count": null,
   "metadata": {},
   "outputs": [],
   "source": [
    "s_new = ''.join([(left if left == right else left+SEPARATOR) for left, right in neighbor_pairs(s)]) + s[-1]\n",
    "s_new"
   ]
  },
  {
   "cell_type": "code",
   "execution_count": null,
   "metadata": {},
   "outputs": [],
   "source": [
    "s_new.split(SEPARATOR)"
   ]
  },
  {
   "cell_type": "code",
   "execution_count": null,
   "metadata": {},
   "outputs": [],
   "source": []
  }
 ],
 "metadata": {
  "kernelspec": {
   "display_name": "Python 3",
   "language": "python",
   "name": "python3"
  },
  "language_info": {
   "codemirror_mode": {
    "name": "ipython",
    "version": 3
   },
   "file_extension": ".py",
   "mimetype": "text/x-python",
   "name": "python",
   "nbconvert_exporter": "python",
   "pygments_lexer": "ipython3",
   "version": "3.7.3"
  }
 },
 "nbformat": 4,
 "nbformat_minor": 4
}
