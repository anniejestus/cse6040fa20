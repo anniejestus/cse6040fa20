{
 "cells": [
  {
   "cell_type": "markdown",
   "metadata": {},
   "source": [
    "# Example: Character with the longest consecutive subsequence of a string"
   ]
  },
  {
   "cell_type": "code",
   "execution_count": 1,
   "metadata": {},
   "outputs": [],
   "source": [
    "def check(implementation):\n",
    "    tests = [\n",
    "        # [input, expected],\n",
    "        [\"aaaabb\", ('a', 4)],\n",
    "        [\"bbbaaabaaaa\", ('a', 4)],\n",
    "        [\"bbbaaaabaaa\", ('a', 4)],\n",
    "        [\"cbdeuuu900\", ('u', 3)],\n",
    "        [\"abbbbb\", ('b', 5)],\n",
    "        [\"aabb\", ('a', 2)],\n",
    "        [\"ba\", ('b', 1)],\n",
    "        [\"\", ('', 0)],\n",
    "    ]\n",
    "    for s, true_answer in tests:\n",
    "        print(f\"Input: {repr(s)} => Expected output: {true_answer}\")\n",
    "        our_answer = implementation(s)\n",
    "        assert our_answer == true_answer, f\"{our_answer} does not match expected result.\""
   ]
  },
  {
   "cell_type": "markdown",
   "metadata": {},
   "source": [
    "## Method 0: \"One-at-a-time\" approach\n",
    "\n",
    "Scan the string from left-to-right, one character at a time. Keep track of the longest consecutive substring encountered so far, and update that every time we encounter a new character."
   ]
  },
  {
   "cell_type": "code",
   "execution_count": 2,
   "metadata": {},
   "outputs": [],
   "source": [
    "s = \"bbbaaaabaaa\""
   ]
  },
  {
   "cell_type": "code",
   "execution_count": 3,
   "metadata": {},
   "outputs": [
    {
     "data": {
      "text/plain": [
       "('a', 4)"
      ]
     },
     "execution_count": 3,
     "metadata": {},
     "output_type": "execute_result"
    }
   ],
   "source": [
    "def lcs0(s):\n",
    "    previous, previous_count = '', 0  # logical relationship between previous and previous_count is \"invariant\"\n",
    "    longest, longest_count = '', 0\n",
    "    for c in s:\n",
    "        if c == previous: # same substring, keep going\n",
    "            previous_count += 1\n",
    "            continue\n",
    "        else: # new substring\n",
    "            if previous_count > longest_count: # update max\n",
    "                longest = previous\n",
    "                longest_count = previous_count\n",
    "            previous, previous_count = c, 1\n",
    "    if previous_count > longest_count: # update max\n",
    "        longest = previous\n",
    "        longest_count = previous_count\n",
    "    return longest, longest_count\n",
    "\n",
    "lcs0(s)"
   ]
  },
  {
   "cell_type": "code",
   "execution_count": 4,
   "metadata": {},
   "outputs": [
    {
     "name": "stdout",
     "output_type": "stream",
     "text": [
      "Input: 'aaaabb' => Expected output: ('a', 4)\n",
      "Input: 'bbbaaabaaaa' => Expected output: ('a', 4)\n",
      "Input: 'bbbaaaabaaa' => Expected output: ('a', 4)\n",
      "Input: 'cbdeuuu900' => Expected output: ('u', 3)\n",
      "Input: 'abbbbb' => Expected output: ('b', 5)\n",
      "Input: 'aabb' => Expected output: ('a', 2)\n",
      "Input: 'ba' => Expected output: ('b', 1)\n",
      "Input: '' => Expected output: ('', 0)\n"
     ]
    }
   ],
   "source": [
    "check(lcs0)"
   ]
  },
  {
   "cell_type": "markdown",
   "metadata": {},
   "source": [
    "## Method 1: A \"data-parallel\" approach\n",
    "\n",
    "For all consecutive pairs of characters, detect where changes occur. These are, in effect, the locations of the last letter of a consecutive subsequence. From those locations, looking at the differences between them yields the length of each subsequence."
   ]
  },
  {
   "cell_type": "code",
   "execution_count": 5,
   "metadata": {},
   "outputs": [],
   "source": [
    "s = \"bbbaaaabaaa\""
   ]
  },
  {
   "cell_type": "markdown",
   "metadata": {},
   "source": [
    "```python\n",
    "                    1\n",
    "0 1 2 3 4 5 6 7 8 9 0\n",
    "b b b a a a a b a a a\n",
    "b b a a a a b a a a\n",
    "```"
   ]
  },
  {
   "cell_type": "markdown",
   "metadata": {},
   "source": [
    "```python\n",
    "-1, 2, 6, 7, 10  # <-- look at difference between pairs\n",
    " 3, 4, 1, 3\n",
    "```"
   ]
  },
  {
   "cell_type": "code",
   "execution_count": 6,
   "metadata": {},
   "outputs": [
    {
     "data": {
      "text/plain": [
       "[('b', 'b'),\n",
       " ('b', 'b'),\n",
       " ('b', 'a'),\n",
       " ('a', 'a'),\n",
       " ('a', 'a'),\n",
       " ('a', 'a'),\n",
       " ('a', 'b'),\n",
       " ('b', 'a'),\n",
       " ('a', 'a'),\n",
       " ('a', 'a')]"
      ]
     },
     "execution_count": 6,
     "metadata": {},
     "output_type": "execute_result"
    }
   ],
   "source": [
    "list(zip(s[:-1], s[1:]))"
   ]
  },
  {
   "cell_type": "code",
   "execution_count": 7,
   "metadata": {},
   "outputs": [
    {
     "name": "stdout",
     "output_type": "stream",
     "text": [
      "2 b a\n",
      "6 a b\n",
      "7 b a\n"
     ]
    }
   ],
   "source": [
    "k = 0\n",
    "for left, right in zip(s[:-1], s[1:]):\n",
    "    if left != right:\n",
    "        print(k, left, right)\n",
    "    k += 1"
   ]
  },
  {
   "cell_type": "code",
   "execution_count": 8,
   "metadata": {},
   "outputs": [
    {
     "data": {
      "text/plain": [
       "[(0, ('b', 'b')),\n",
       " (1, ('b', 'b')),\n",
       " (2, ('b', 'a')),\n",
       " (3, ('a', 'a')),\n",
       " (4, ('a', 'a')),\n",
       " (5, ('a', 'a')),\n",
       " (6, ('a', 'b')),\n",
       " (7, ('b', 'a')),\n",
       " (8, ('a', 'a')),\n",
       " (9, ('a', 'a'))]"
      ]
     },
     "execution_count": 8,
     "metadata": {},
     "output_type": "execute_result"
    }
   ],
   "source": [
    "list(enumerate(zip(s[:-1], s[1:])))"
   ]
  },
  {
   "cell_type": "code",
   "execution_count": 9,
   "metadata": {},
   "outputs": [
    {
     "name": "stdout",
     "output_type": "stream",
     "text": [
      "[-1, 2, 6, 7, 10]\n"
     ]
    }
   ],
   "source": [
    "cut_points = [-1]\n",
    "\n",
    "for k, (left, right) in enumerate(zip(s[:-1], s[1:])):\n",
    "    if left != right:\n",
    "        cut_points.append(k)\n",
    "\n",
    "cut_points.append(len(s)-1)\n",
    "print(cut_points)"
   ]
  },
  {
   "cell_type": "code",
   "execution_count": 10,
   "metadata": {},
   "outputs": [
    {
     "name": "stdout",
     "output_type": "stream",
     "text": [
      "[-1, 2, 6, 7, 10]\n"
     ]
    }
   ],
   "source": [
    "cut_points = [-1]\n",
    "cut_points += [k for k, (left, right) in enumerate(zip(s[:-1], s[1:])) if left != right]\n",
    "cut_points += [len(s)-1]\n",
    "print(cut_points)"
   ]
  },
  {
   "cell_type": "code",
   "execution_count": 11,
   "metadata": {},
   "outputs": [
    {
     "data": {
      "text/plain": [
       "[3, 4, 1, 3]"
      ]
     },
     "execution_count": 11,
     "metadata": {},
     "output_type": "execute_result"
    }
   ],
   "source": [
    "lengths = [y-x for x, y in zip(cut_points[:-1], cut_points[1:])]\n",
    "lengths"
   ]
  },
  {
   "cell_type": "code",
   "execution_count": 12,
   "metadata": {},
   "outputs": [
    {
     "data": {
      "text/plain": [
       "['b', 'a', 'b', 'a']"
      ]
     },
     "execution_count": 12,
     "metadata": {},
     "output_type": "execute_result"
    }
   ],
   "source": [
    "letters = [s[k] for k in cut_points[1:]]\n",
    "letters"
   ]
  },
  {
   "cell_type": "code",
   "execution_count": 13,
   "metadata": {},
   "outputs": [
    {
     "data": {
      "text/plain": [
       "('a', 4)"
      ]
     },
     "execution_count": 13,
     "metadata": {},
     "output_type": "execute_result"
    }
   ],
   "source": [
    "letter_count_pairs = zip(letters, lengths)\n",
    "max(letter_count_pairs, key=lambda t: t[1])"
   ]
  },
  {
   "cell_type": "code",
   "execution_count": 14,
   "metadata": {},
   "outputs": [
    {
     "data": {
      "text/plain": [
       "('bbbaaaabaaa', ('a', 4))"
      ]
     },
     "execution_count": 14,
     "metadata": {},
     "output_type": "execute_result"
    }
   ],
   "source": [
    "def lcs1(s):\n",
    "    cut_points = [-1]\n",
    "    cut_points += [k for k, (left, right) in enumerate(zip(s[:-1], s[1:])) if left != right]\n",
    "    cut_points += [len(s)-1]\n",
    "    lengths = [y-x for x, y in zip(cut_points[:-1], cut_points[1:])]\n",
    "    letters = [s[k:k+1] for k in cut_points[1:]]\n",
    "    letter_count_pairs = zip(letters, lengths)\n",
    "    return max(letter_count_pairs, key=lambda t: t[1])\n",
    "\n",
    "s, lcs1(s)"
   ]
  },
  {
   "cell_type": "code",
   "execution_count": 15,
   "metadata": {},
   "outputs": [
    {
     "name": "stdout",
     "output_type": "stream",
     "text": [
      "Input: 'aaaabb' => Expected output: ('a', 4)\n",
      "Input: 'bbbaaabaaaa' => Expected output: ('a', 4)\n",
      "Input: 'bbbaaaabaaa' => Expected output: ('a', 4)\n",
      "Input: 'cbdeuuu900' => Expected output: ('u', 3)\n",
      "Input: 'abbbbb' => Expected output: ('b', 5)\n",
      "Input: 'aabb' => Expected output: ('a', 2)\n",
      "Input: 'ba' => Expected output: ('b', 1)\n",
      "Input: '' => Expected output: ('', 0)\n"
     ]
    }
   ],
   "source": [
    "check(lcs1)"
   ]
  },
  {
   "cell_type": "code",
   "execution_count": 16,
   "metadata": {},
   "outputs": [
    {
     "ename": "IndexError",
     "evalue": "string index out of range",
     "output_type": "error",
     "traceback": [
      "\u001b[0;31m---------------------------------------------------------------------------\u001b[0m",
      "\u001b[0;31mIndexError\u001b[0m                                Traceback (most recent call last)",
      "\u001b[0;32m<ipython-input-16-c908096a7cc3>\u001b[0m in \u001b[0;36m<module>\u001b[0;34m\u001b[0m\n\u001b[0;32m----> 1\u001b[0;31m \u001b[0;34m(\u001b[0m\u001b[0;34m''\u001b[0m\u001b[0;34m)\u001b[0m\u001b[0;34m[\u001b[0m\u001b[0;34m-\u001b[0m\u001b[0;36m1\u001b[0m\u001b[0;34m]\u001b[0m  \u001b[0;31m# Fails! A reasonable output would have been an empty string\u001b[0m\u001b[0;34m\u001b[0m\u001b[0;34m\u001b[0m\u001b[0m\n\u001b[0m",
      "\u001b[0;31mIndexError\u001b[0m: string index out of range"
     ]
    }
   ],
   "source": [
    "('')[-1]  # Fails! A reasonable output would have been an empty string"
   ]
  },
  {
   "cell_type": "code",
   "execution_count": 17,
   "metadata": {},
   "outputs": [
    {
     "data": {
      "text/plain": [
       "''"
      ]
     },
     "execution_count": 17,
     "metadata": {},
     "output_type": "execute_result"
    }
   ],
   "source": [
    "s[-1:0] # This pattern, `i:i+1`, works"
   ]
  },
  {
   "cell_type": "code",
   "execution_count": 18,
   "metadata": {},
   "outputs": [
    {
     "data": {
      "text/plain": [
       "[]"
      ]
     },
     "execution_count": 18,
     "metadata": {},
     "output_type": "execute_result"
    }
   ],
   "source": [
    "[][-1:0] # It works for lists, too"
   ]
  },
  {
   "cell_type": "code",
   "execution_count": null,
   "metadata": {},
   "outputs": [],
   "source": []
  }
 ],
 "metadata": {
  "kernelspec": {
   "display_name": "Python 3",
   "language": "python",
   "name": "python3"
  },
  "language_info": {
   "codemirror_mode": {
    "name": "ipython",
    "version": 3
   },
   "file_extension": ".py",
   "mimetype": "text/x-python",
   "name": "python",
   "nbconvert_exporter": "python",
   "pygments_lexer": "ipython3",
   "version": "3.7.3"
  }
 },
 "nbformat": 4,
 "nbformat_minor": 4
}
